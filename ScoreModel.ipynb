{
 "cells": [
  {
   "cell_type": "markdown",
   "metadata": {},
   "source": [
    "Train CDSSM neural netword"
   ]
  },
  {
   "cell_type": "code",
   "execution_count": null,
   "metadata": {},
   "outputs": [],
   "source": [
    "%%bash\n",
    "# Run this code on GPU server\n",
    "python train_cdssm_tele2.py --cuda=1 --epoch 40 --dropout 0.4 --seed 46\\\n",
    "                      --netsize 200 --parallel 10\\\n",
    "                      --run tele2_cdssm\\\n",
    "                      --restore-model ../data/models/Matcher_best_clear.pth\\\n",
    "                      --train-data ../data/tele2/train_data.tsv\\\n",
    "                      --valid-data ../data/tele2/valid_data.tsv\\\n",
    "                      --save-every 3 --batch-size 50\\\n",
    "                      --lr 0.00002 --patience 4 --emb-size 300\\\n",
    "                      --emb-path '../data/araneum_none_fasttextskipgram_300_5_2018.model' |& tee run_cdssm_tele2.sh.log\n"
   ]
  },
  {
   "cell_type": "code",
   "execution_count": 20,
   "metadata": {},
   "outputs": [
    {
     "name": "stdout",
     "output_type": "stream",
     "text": [
      "   Positive examples\n",
      "0.299609899520874\n",
      "0.3806736469268799\n",
      "0.08130992949008942\n",
      "0.5117695927619934\n",
      "0.21419133245944977\n",
      "0.2816021740436554\n",
      "0.07308541238307953\n",
      "0.43856534361839294\n",
      "0.3057277500629425\n",
      "0.2919294238090515\n",
      "   Negative examples\n",
      "0.0008508919854648411\n",
      "0.14637349545955658\n",
      "0.0018008145270869136\n",
      "0.035722069442272186\n",
      "0.0014386859256774187\n",
      "0.10372891277074814\n",
      "0.30649563670158386\n",
      "0.00030640693148598075\n",
      "0.16311630606651306\n",
      "0.06232735514640808\n"
     ]
    }
   ],
   "source": [
    "%%bash\n",
    "cd DSSM;\n",
    "echo \"   Positive examples\"\n",
    "python predict_tele2.py --model ../data/Matcher_best_clear.pth\\\n",
    "                           --mtx-path ../data/ft_vect.dat\\\n",
    "                           --meta-path ../data/ft_meta.json\\\n",
    "                           --input-file ../data/pos_example.tsv | tail -n +4\n",
    "\n",
    "echo \"   Negative examples\"\n",
    "python predict_tele2.py --model ../data/Matcher_best_clear.pth\\\n",
    "                           --mtx-path ../data/ft_vect.dat\\\n",
    "                           --meta-path ../data/ft_meta.json\\\n",
    "                           --input-file ../data/neg_example.tsv | tail -n +4"
   ]
  },
  {
   "cell_type": "markdown",
   "metadata": {},
   "source": [
    "### Generate question vectors"
   ]
  },
  {
   "cell_type": "code",
   "execution_count": 19,
   "metadata": {},
   "outputs": [
    {
     "name": "stdout",
     "output_type": "stream",
     "text": [
      "Collect questions: Done!\n",
      "-0.9552842974662781 -0.9921454191207886 -0.9999502301216125 -0.9994466304779053 0.022762859240174294 0.991820752620697 0.9997281432151794 0.6344990730285645 -0.638560950756073 0.9084559082984924 0.4167441427707672 -0.4504954516887665 -0.9595537781715393 0.08190415799617767 -0.9998862147331238 0.9998322129249573 0.5831775665283203 0.9057847857475281 -0.9999468922615051 0.682098925113678 0.9999850988388062 0.27462974190711975 0.8360445499420166 0.012333379127085209 -0.3065294325351715 -0.019926398992538452 0.9999061822891235 0.9999964237213135 0.8302494287490845 0.884909987449646 -0.3489568531513214 0.7170425057411194 0.998370885848999 -0.9817487597465515 0.9998788833618164 -0.08828888833522797 0.12075190991163254 0.9992536902427673 0.9200456142425537 -0.9947767853736877 -0.3379512429237366 0.9999749064445496 -0.005467731039971113 -0.6138373613357544 0.16392555832862854 0.982033908367157 -0.6082790493965149 -0.12081235647201538 0.11605052649974823 -0.6878649592399597 0.8665597438812256 -0.9999994039535522 -0.9505670070648193 0.8972489833831787 -0.6056848168373108 -0.9930314421653748 0.9977114796638489 0.9999168515205383 -0.6573761701583862 0.4719304144382477 0.9999980330467224 0.999839723110199 0.650970458984375 -0.6402928829193115 -0.32733190059661865 0.5119617581367493 0.15373435616493225 -0.1990426480770111 -0.8283082246780396 -0.15116050839424133 -0.9996180534362793 -0.6734776496887207 -0.3024301528930664 0.999946117401123 -0.9999356269836426 0.9995797872543335 -0.6882022619247437 0.8178275227546692 0.3585871756076813 0.44684556126594543 -0.9999848008155823 0.7060860395431519 -0.02708796039223671 0.9996011853218079 0.722416877746582 0.1273442953824997 -0.9917382597923279 -0.9999330639839172 -0.9999815821647644 0.6054298877716064 -0.07310132682323456 -0.9999961853027344 -0.42056557536125183 0.7738164067268372 -0.6565507054328918 0.5130652785301208 0.8057303428649902 -0.4612950384616852 0.5934103727340698 -0.9999192357063293\n"
     ]
    }
   ],
   "source": [
    "%%bash\n",
    "# Collect all questions\n",
    "cat ./data/train_data.tsv ./data/valid_data.tsv | cut -f 1 | sort | uniq | grep -E '[a-zа-яА-ЯА-Я]+' > ./data/all_questions.txt\n",
    "echo \"Collect questions: Done!\"\n",
    "cd DSSM;\n",
    "python predict_tele2_qv.py --model ../data/Matcher_best_clear.pth\\\n",
    "                           --mtx-path ../data/ft_vect.dat\\\n",
    "                           --meta-path ../data/ft_meta.json\\\n",
    "                           --input-file ../data/all_questions.txt | tail -n +4 > ../data/question_vectors.tsv\n",
    "head -n 1 ../data/question_vectors.tsv"
   ]
  },
  {
   "cell_type": "markdown",
   "metadata": {},
   "source": [
    "### Generate answer vectors"
   ]
  },
  {
   "cell_type": "code",
   "execution_count": null,
   "metadata": {},
   "outputs": [],
   "source": [
    "%%bash\n",
    "cd DSSM;\n",
    "python predict_tele2_av.py --model ../data/Matcher_best_clear.pth\\\n",
    "                           --mtx-path ../data/ft_vect.dat\\\n",
    "                           --meta-path ../data/ft_meta.json\\\n",
    "                           --input-file ../data/pos_example.tsv | tail -n +4 > ../data/question_vectors.tsv"
   ]
  }
 ],
 "metadata": {
  "kernelspec": {
   "display_name": "Python 3",
   "language": "python",
   "name": "python3"
  },
  "language_info": {
   "codemirror_mode": {
    "name": "ipython",
    "version": 3
   },
   "file_extension": ".py",
   "mimetype": "text/x-python",
   "name": "python",
   "nbconvert_exporter": "python",
   "pygments_lexer": "ipython3",
   "version": "3.6.4"
  }
 },
 "nbformat": 4,
 "nbformat_minor": 2
}
