{
 "cells": [
  {
   "cell_type": "code",
   "execution_count": 121,
   "metadata": {},
   "outputs": [],
   "source": [
    "import pandas as pd\n",
    "import nltk\n",
    "import numpy as np\n",
    "import tqdm\n",
    "import re\n",
    "import math"
   ]
  },
  {
   "cell_type": "code",
   "execution_count": 101,
   "metadata": {},
   "outputs": [],
   "source": [
    "all_answers = pd.read_csv('./data/all_shuff_answers.tsv', sep='\\t', header=None)"
   ]
  },
  {
   "cell_type": "code",
   "execution_count": 130,
   "metadata": {},
   "outputs": [
    {
     "name": "stderr",
     "output_type": "stream",
     "text": [
      "3it [00:07,  2.66s/it]/home/generall/anaconda3/lib/python3.6/site-packages/tqdm/_monitor.py:89: TqdmSynchronisationWarning: Set changed size during iteration (see https://github.com/tqdm/tqdm/issues/481)\n",
      "  TqdmSynchronisationWarning)\n",
      "95it [02:47,  1.77s/it]\n"
     ]
    }
   ],
   "source": [
    "ask_status = ['Новый', 'Инцидент']\n",
    "\n",
    "def norm(text):\n",
    "    text = text.replace('\\t', ' ').replace('\\n', ' ').replace('\\'', '').replace('<br>', ' ')\n",
    "    text = re.sub(r'[^A-Za-zА-Яа-я0-9\\s]+', ' ', text)\n",
    "    return text[:500]\n",
    "\n",
    "with open('./data/all_data.tsv', 'w') as fd:\n",
    "    for df in tqdm.tqdm(pd.read_csv('./data/dialogs_1.csv', chunksize=10000)):\n",
    "        df = df.dropna(subset=['Контент', 'ID'])\n",
    "        pos_pair = []\n",
    "        \n",
    "        num_comments = 0\n",
    "        total = 0\n",
    "        \n",
    "        for idx0, (key, group) in enumerate(df.groupby('ID')):\n",
    "            \n",
    "            total += 1\n",
    "            \n",
    "            if (group['Тип.обращения'] == 'Комментарий').sum() > 0:\n",
    "                continue\n",
    "                        \n",
    "            question = []\n",
    "            answer = None\n",
    "            for row in group.itertuples():\n",
    "                if not pd.isnull(row[8]):\n",
    "                    question.append(row.Контент)\n",
    "                else:\n",
    "                    answer = row.Контент\n",
    "                    break\n",
    "            if answer:\n",
    "                question = norm(' '.join(question))\n",
    "                answer = norm(answer.replace('\\t', ' '))\n",
    "                \n",
    "                fd.write(\"{}\\t{}\\t{}\\n\".format(question, answer, 1))\n",
    "                \n",
    "                pos_pair.append((question, answer))\n",
    "\n",
    "                for idx in range(10):\n",
    "                    rand_answer = np.random.choice(all_answers[0])\n",
    "                    fd.write(\"{}\\t{}\\t{}\\n\".format(question, norm(rand_answer), 0))\n",
    "#             if idx0 > 3:\n",
    "#                 break\n",
    "#         break"
   ]
  },
  {
   "cell_type": "code",
   "execution_count": 131,
   "metadata": {},
   "outputs": [
    {
     "name": "stdout",
     "output_type": "stream",
     "text": [
      "389279 ./data/all_data.tsv\n"
     ]
    }
   ],
   "source": [
    "!wc -l ./data/all_data.tsv"
   ]
  },
  {
   "cell_type": "code",
   "execution_count": 138,
   "metadata": {},
   "outputs": [],
   "source": [
    "!shuf ./data/all_data.tsv > ./data/all_data_shuf.tsv\n",
    "!mv ./data/all_data_shuf.tsv ./data/all_data.tsv"
   ]
  },
  {
   "cell_type": "code",
   "execution_count": 139,
   "metadata": {},
   "outputs": [],
   "source": [
    "valid_size = 50000"
   ]
  },
  {
   "cell_type": "code",
   "execution_count": 140,
   "metadata": {},
   "outputs": [],
   "source": [
    "train_size = 389279 - valid_size"
   ]
  },
  {
   "cell_type": "code",
   "execution_count": 141,
   "metadata": {},
   "outputs": [],
   "source": [
    "!tail -n $valid_size ./data/all_data.tsv > ./data/valid_data.tsv"
   ]
  },
  {
   "cell_type": "code",
   "execution_count": 142,
   "metadata": {},
   "outputs": [],
   "source": [
    "!head -n $train_size ./data/all_data.tsv > ./data/train_data.tsv"
   ]
  },
  {
   "cell_type": "code",
   "execution_count": 113,
   "metadata": {},
   "outputs": [
    {
     "data": {
      "text/plain": [
       "331500"
      ]
     },
     "execution_count": 113,
     "metadata": {},
     "output_type": "execute_result"
    }
   ],
   "source": [
    "6630 * 50"
   ]
  },
  {
   "cell_type": "code",
   "execution_count": 146,
   "metadata": {},
   "outputs": [],
   "source": [
    "df = pd.read_csv('./data/valid_data.tsv', sep='\\t', nrows=10000, header=None)"
   ]
  },
  {
   "cell_type": "code",
   "execution_count": 148,
   "metadata": {},
   "outputs": [],
   "source": [
    "df[df[2] == 0][[0, 1]].head(10).to_csv('./data/neg_example.tsv', sep='\\t', index=None, header=None)"
   ]
  },
  {
   "cell_type": "code",
   "execution_count": null,
   "metadata": {},
   "outputs": [],
   "source": []
  }
 ],
 "metadata": {
  "kernelspec": {
   "display_name": "Python 3",
   "language": "python",
   "name": "python3"
  },
  "language_info": {
   "codemirror_mode": {
    "name": "ipython",
    "version": 3
   },
   "file_extension": ".py",
   "mimetype": "text/x-python",
   "name": "python",
   "nbconvert_exporter": "python",
   "pygments_lexer": "ipython3",
   "version": "3.6.4"
  }
 },
 "nbformat": 4,
 "nbformat_minor": 2
}
